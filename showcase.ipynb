{
 "cells": [
  {
   "cell_type": "markdown",
   "source": [
    "# Import Packages\n"
   ],
   "metadata": {
    "collapsed": false
   }
  },
  {
   "cell_type": "code",
   "execution_count": 3,
   "outputs": [],
   "source": [
    "from profile_gen import *\n",
    "from sc_functions import *\n",
    "from strprf import *\n",
    "from itertools import chain, combinations\n",
    "\n",
    "%reload_ext autoreload\n",
    "%autoreload 2"
   ],
   "metadata": {
    "collapsed": false,
    "ExecuteTime": {
     "start_time": "2023-05-17T20:05:35.259557Z",
     "end_time": "2023-05-17T20:05:35.995707Z"
    }
   }
  },
  {
   "cell_type": "markdown",
   "source": [
    "# Testing Code"
   ],
   "metadata": {
    "collapsed": false
   }
  },
  {
   "cell_type": "code",
   "execution_count": 4,
   "outputs": [
    {
     "name": "stdout",
     "output_type": "stream",
     "text": [
      "<function plurality at 0x000001DC9EDC6D40> <function kelly at 0x000001DCAD302170> 248\n",
      "<function plurality at 0x000001DC9EDC6D40> <function fishburn at 0x000001DCAD302290> 241\n",
      "<function plurality at 0x000001DC9EDC6D40> <function gardenförs at 0x000001DCAD302320> 269\n",
      "<function plurality at 0x000001DC9EDC6D40> <function optimist at 0x000001DCAD3023B0> 96\n",
      "<function plurality at 0x000001DC9EDC6D40> <function pessimist at 0x000001DCAD302440> 542\n",
      "<function borda at 0x000001DC9EDC7130> <function kelly at 0x000001DCAD302170> 213\n",
      "<function borda at 0x000001DC9EDC7130> <function fishburn at 0x000001DCAD302290> 237\n",
      "<function borda at 0x000001DC9EDC7130> <function gardenförs at 0x000001DCAD302320> 238\n",
      "<function borda at 0x000001DC9EDC7130> <function optimist at 0x000001DCAD3023B0> 177\n",
      "<function borda at 0x000001DC9EDC7130> <function pessimist at 0x000001DCAD302440> 595\n",
      "<function instant_runoff at 0x000001DCAD301AB0> <function kelly at 0x000001DCAD302170> 65\n",
      "<function instant_runoff at 0x000001DCAD301AB0> <function fishburn at 0x000001DCAD302290> 52\n",
      "<function instant_runoff at 0x000001DCAD301AB0> <function gardenförs at 0x000001DCAD302320> 69\n",
      "<function instant_runoff at 0x000001DCAD301AB0> <function optimist at 0x000001DCAD3023B0> 58\n",
      "<function instant_runoff at 0x000001DCAD301AB0> <function pessimist at 0x000001DCAD302440> 455\n",
      "<function pareto at 0x000001DCAD301B40> <function kelly at 0x000001DCAD302170> 0\n",
      "<function pareto at 0x000001DCAD301B40> <function fishburn at 0x000001DCAD302290> 0\n",
      "<function pareto at 0x000001DCAD301B40> <function gardenförs at 0x000001DCAD302320> 0\n",
      "<function pareto at 0x000001DCAD301B40> <function optimist at 0x000001DCAD3023B0> 0\n",
      "<function pareto at 0x000001DCAD301B40> <function pessimist at 0x000001DCAD302440> 1000\n",
      "<function omninomination at 0x000001DCAD301BD0> <function kelly at 0x000001DCAD302170> 0\n",
      "<function omninomination at 0x000001DCAD301BD0> <function fishburn at 0x000001DCAD302290> 0\n",
      "<function omninomination at 0x000001DCAD301BD0> <function gardenförs at 0x000001DCAD302320> 0\n",
      "<function omninomination at 0x000001DCAD301BD0> <function optimist at 0x000001DCAD3023B0> 0\n",
      "<function omninomination at 0x000001DCAD301BD0> <function pessimist at 0x000001DCAD302440> 1000\n",
      "<function copeland at 0x000001DCAD301E10> <function kelly at 0x000001DCAD302170> 0\n",
      "<function copeland at 0x000001DCAD301E10> <function fishburn at 0x000001DCAD302290> 0\n",
      "<function copeland at 0x000001DCAD301E10> <function gardenförs at 0x000001DCAD302320> 0\n",
      "<function copeland at 0x000001DCAD301E10> <function optimist at 0x000001DCAD3023B0> 103\n",
      "<function copeland at 0x000001DCAD301E10> <function pessimist at 0x000001DCAD302440> 434\n",
      "<function top_cycle at 0x000001DCAD301EA0> <function kelly at 0x000001DCAD302170> 0\n",
      "<function top_cycle at 0x000001DCAD301EA0> <function fishburn at 0x000001DCAD302290> 0\n",
      "<function top_cycle at 0x000001DCAD301EA0> <function gardenförs at 0x000001DCAD302320> 0\n",
      "<function top_cycle at 0x000001DCAD301EA0> <function optimist at 0x000001DCAD3023B0> 96\n",
      "<function top_cycle at 0x000001DCAD301EA0> <function pessimist at 0x000001DCAD302440> 436\n",
      "<function uncovered_set at 0x000001DCAD301F30> <function kelly at 0x000001DCAD302170> 0\n",
      "<function uncovered_set at 0x000001DCAD301F30> <function fishburn at 0x000001DCAD302290> 0\n",
      "<function uncovered_set at 0x000001DCAD301F30> <function gardenförs at 0x000001DCAD302320> 0\n",
      "<function uncovered_set at 0x000001DCAD301F30> <function optimist at 0x000001DCAD3023B0> 99\n",
      "<function uncovered_set at 0x000001DCAD301F30> <function pessimist at 0x000001DCAD302440> 416\n"
     ]
    }
   ],
   "source": [
    "x = 1000\n",
    "n = 11\n",
    "m = 3\n",
    "d = 3\n",
    "\n",
    "scfs = [plurality, borda, instant_runoff, pareto, omninomination, copeland, top_cycle, uncovered_set]\n",
    "exts = [kelly, fishburn, gardenförs, optimist, pessimist]\n",
    "\n",
    "for scf in scfs:\n",
    "    for ext in exts:\n",
    "        print(scf, ext, manipulable_count_cartesian(x, n, m, d, scf, ext))"
   ],
   "metadata": {
    "collapsed": false,
    "ExecuteTime": {
     "start_time": "2023-05-17T20:05:35.997711Z",
     "end_time": "2023-05-17T20:06:13.268254Z"
    }
   }
  }
 ],
 "metadata": {
  "kernelspec": {
   "display_name": "Python 3",
   "language": "python",
   "name": "python3"
  },
  "language_info": {
   "codemirror_mode": {
    "name": "ipython",
    "version": 2
   },
   "file_extension": ".py",
   "mimetype": "text/x-python",
   "name": "python",
   "nbconvert_exporter": "python",
   "pygments_lexer": "ipython2",
   "version": "2.7.6"
  }
 },
 "nbformat": 4,
 "nbformat_minor": 0
}
