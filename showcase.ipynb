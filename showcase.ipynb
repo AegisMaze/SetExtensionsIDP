{
 "cells": [
  {
   "cell_type": "markdown",
   "source": [
    "# Import Packages\n"
   ],
   "metadata": {
    "collapsed": false
   }
  },
  {
   "cell_type": "code",
   "execution_count": 86,
   "outputs": [],
   "source": [
    "import matplotlib.pyplot as plt\n",
    "from timeit import default_timer as timer\n",
    "\n",
    "from profile_gen import *\n",
    "from sc_functions import *\n",
    "from extensions import *\n",
    "from strprf import *\n",
    "from strprf_new import *\n",
    "\n",
    "%reload_ext autoreload\n",
    "%autoreload 2"
   ],
   "metadata": {
    "collapsed": false,
    "ExecuteTime": {
     "start_time": "2023-07-02T15:55:49.521059Z",
     "end_time": "2023-07-02T15:55:53.166548Z"
    }
   }
  },
  {
   "cell_type": "markdown",
   "source": [
    "# Calculating Manupilability"
   ],
   "metadata": {
    "collapsed": false
   }
  },
  {
   "cell_type": "code",
   "execution_count": 87,
   "outputs": [
    {
     "ename": "KeyboardInterrupt",
     "evalue": "",
     "output_type": "error",
     "traceback": [
      "\u001B[1;31m---------------------------------------------------------------------------\u001B[0m",
      "\u001B[1;31mKeyboardInterrupt\u001B[0m                         Traceback (most recent call last)",
      "Input \u001B[1;32mIn [87]\u001B[0m, in \u001B[0;36m<cell line: 14>\u001B[1;34m()\u001B[0m\n\u001B[0;32m     11\u001B[0m profiles \u001B[38;5;241m=\u001B[39m [generate_profile(n, m) \u001B[38;5;28;01mfor\u001B[39;00m _ \u001B[38;5;129;01min\u001B[39;00m \u001B[38;5;28mrange\u001B[39m(x)]\n\u001B[0;32m     13\u001B[0m start \u001B[38;5;241m=\u001B[39m timer()\n\u001B[1;32m---> 14\u001B[0m counts \u001B[38;5;241m=\u001B[39m \u001B[38;5;28;43msum\u001B[39;49m\u001B[43m(\u001B[49m\u001B[43mmanipulable_count_all\u001B[49m\u001B[43m(\u001B[49m\u001B[43mp\u001B[49m\u001B[43m,\u001B[49m\u001B[43m \u001B[49m\u001B[43mn\u001B[49m\u001B[43m)\u001B[49m\u001B[43m \u001B[49m\u001B[38;5;28;43;01mfor\u001B[39;49;00m\u001B[43m \u001B[49m\u001B[43mp\u001B[49m\u001B[43m \u001B[49m\u001B[38;5;129;43;01min\u001B[39;49;00m\u001B[43m \u001B[49m\u001B[43mprofiles\u001B[49m\u001B[43m)\u001B[49m\u001B[38;5;241m.\u001B[39mtranspose()\n\u001B[0;32m     15\u001B[0m end \u001B[38;5;241m=\u001B[39m timer()\n\u001B[0;32m     17\u001B[0m \u001B[38;5;28mprint\u001B[39m(end \u001B[38;5;241m-\u001B[39m start)\n",
      "Input \u001B[1;32mIn [87]\u001B[0m, in \u001B[0;36m<genexpr>\u001B[1;34m(.0)\u001B[0m\n\u001B[0;32m     11\u001B[0m profiles \u001B[38;5;241m=\u001B[39m [generate_profile(n, m) \u001B[38;5;28;01mfor\u001B[39;00m _ \u001B[38;5;129;01min\u001B[39;00m \u001B[38;5;28mrange\u001B[39m(x)]\n\u001B[0;32m     13\u001B[0m start \u001B[38;5;241m=\u001B[39m timer()\n\u001B[1;32m---> 14\u001B[0m counts \u001B[38;5;241m=\u001B[39m \u001B[38;5;28msum\u001B[39m(\u001B[43mmanipulable_count_all\u001B[49m\u001B[43m(\u001B[49m\u001B[43mp\u001B[49m\u001B[43m,\u001B[49m\u001B[43m \u001B[49m\u001B[43mn\u001B[49m\u001B[43m)\u001B[49m \u001B[38;5;28;01mfor\u001B[39;00m p \u001B[38;5;129;01min\u001B[39;00m profiles)\u001B[38;5;241m.\u001B[39mtranspose()\n\u001B[0;32m     15\u001B[0m end \u001B[38;5;241m=\u001B[39m timer()\n\u001B[0;32m     17\u001B[0m \u001B[38;5;28mprint\u001B[39m(end \u001B[38;5;241m-\u001B[39m start)\n",
      "File \u001B[1;32m~\\PycharmProjects\\SetExtensionsIDP\\strprf_new.py:259\u001B[0m, in \u001B[0;36mmanipulable_count_all\u001B[1;34m(p, n)\u001B[0m\n\u001B[0;32m    257\u001B[0m count[\u001B[38;5;241m4\u001B[39m] \u001B[38;5;241m=\u001B[39m manipulable_count_omninomi(p, n_exts)\n\u001B[0;32m    258\u001B[0m count[\u001B[38;5;241m5\u001B[39m] \u001B[38;5;241m=\u001B[39m manipulable_count_condorcet(p, n_exts, n)\n\u001B[1;32m--> 259\u001B[0m count[\u001B[38;5;241m6\u001B[39m] \u001B[38;5;241m=\u001B[39m \u001B[43mmanipulable_count_copeland\u001B[49m\u001B[43m(\u001B[49m\u001B[43mp\u001B[49m\u001B[43m,\u001B[49m\u001B[43m \u001B[49m\u001B[43mn_exts\u001B[49m\u001B[43m)\u001B[49m\n\u001B[0;32m    260\u001B[0m count[\u001B[38;5;241m7\u001B[39m] \u001B[38;5;241m=\u001B[39m manipulable_count_top_cycle(p, n_exts)\n\u001B[0;32m    261\u001B[0m count[\u001B[38;5;241m8\u001B[39m] \u001B[38;5;241m=\u001B[39m manipulable_count_uncovered(p, n_exts)\n",
      "File \u001B[1;32m~\\PycharmProjects\\SetExtensionsIDP\\strprf_new.py:154\u001B[0m, in \u001B[0;36mmanipulable_count_copeland\u001B[1;34m(p, n_exts)\u001B[0m\n\u001B[0;32m    152\u001B[0m \u001B[38;5;28;01mfor\u001B[39;00m r2 \u001B[38;5;129;01min\u001B[39;00m permutations(r, \u001B[38;5;28mlen\u001B[39m(r)):\n\u001B[0;32m    153\u001B[0m     add_ranking(p2, r2)\n\u001B[1;32m--> 154\u001B[0m     w2, _ \u001B[38;5;241m=\u001B[39m \u001B[43mcopeland\u001B[49m\u001B[43m(\u001B[49m\u001B[43mp2\u001B[49m\u001B[43m)\u001B[49m\n\u001B[0;32m    155\u001B[0m     \u001B[38;5;28;01mif\u001B[39;00m winners \u001B[38;5;241m!=\u001B[39m w2:\n\u001B[0;32m    156\u001B[0m         pfc \u001B[38;5;241m=\u001B[39m profile_form_change(r)\n",
      "File \u001B[1;32m~\\PycharmProjects\\SetExtensionsIDP\\sc_functions.py:102\u001B[0m, in \u001B[0;36mcopeland\u001B[1;34m(r)\u001B[0m\n\u001B[0;32m    101\u001B[0m \u001B[38;5;28;01mdef\u001B[39;00m \u001B[38;5;21mcopeland\u001B[39m(r):\n\u001B[1;32m--> 102\u001B[0m     t \u001B[38;5;241m=\u001B[39m \u001B[43mto_tournament\u001B[49m\u001B[43m(\u001B[49m\u001B[43mr\u001B[49m\u001B[43m)\u001B[49m\n\u001B[0;32m    103\u001B[0m     \u001B[38;5;28;01mreturn\u001B[39;00m copeland_t(t)\n",
      "File \u001B[1;32m~\\PycharmProjects\\SetExtensionsIDP\\sc_functions.py:76\u001B[0m, in \u001B[0;36mto_tournament\u001B[1;34m(r)\u001B[0m\n\u001B[0;32m     74\u001B[0m \u001B[38;5;28;01mfor\u001B[39;00m k, v \u001B[38;5;129;01min\u001B[39;00m r\u001B[38;5;241m.\u001B[39mitems():\n\u001B[0;32m     75\u001B[0m     \u001B[38;5;28;01mfor\u001B[39;00m i \u001B[38;5;129;01min\u001B[39;00m \u001B[38;5;28mrange\u001B[39m(m):\n\u001B[1;32m---> 76\u001B[0m         \u001B[38;5;28;01mfor\u001B[39;00m j \u001B[38;5;129;01min\u001B[39;00m \u001B[38;5;28;43mrange\u001B[39;49m\u001B[43m(\u001B[49m\u001B[43mi\u001B[49m\u001B[43m)\u001B[49m:\n\u001B[0;32m     77\u001B[0m             t[k[j]][k[i]] \u001B[38;5;241m+\u001B[39m\u001B[38;5;241m=\u001B[39m v\n\u001B[0;32m     78\u001B[0m \u001B[38;5;28;01mreturn\u001B[39;00m t\n",
      "\u001B[1;31mKeyboardInterrupt\u001B[0m: "
     ]
    }
   ],
   "source": [
    "x = 100\n",
    "n = 11\n",
    "m = 5\n",
    "d = 3\n",
    "\n",
    "scfs = [plurality, borda, instant_runoff, pareto, omninomination, condorcet, copeland, top_cycle, uncovered_set]\n",
    "exts = [kelly, fishburn, gardenfoers, optimist, pessimist, opt_pes, singleton, even_chance]\n",
    "\n",
    "dists = mallows_dists(m)\n",
    "#profiles = [generate_mallows_profile(n, m, 0.5, dists) for _ in range(x)]\n",
    "profiles = [generate_profile(n, m) for _ in range(x)]\n",
    "\n",
    "start = timer()\n",
    "counts = sum(manipulable_count_all(p, n) for p in profiles).transpose()\n",
    "end = timer()\n",
    "\n",
    "print(end - start)\n"
   ],
   "metadata": {
    "collapsed": false,
    "ExecuteTime": {
     "start_time": "2023-07-02T15:55:19.855469Z",
     "end_time": "2023-07-02T15:55:31.791592Z"
    }
   }
  },
  {
   "cell_type": "markdown",
   "source": [
    "# Plotting Results"
   ],
   "metadata": {
    "collapsed": false
   }
  },
  {
   "cell_type": "code",
   "execution_count": null,
   "outputs": [],
   "source": [
    "width = 0.1\n",
    "colors = ['r', 'b', 'g', 'y', 'm', 'c']\n",
    "X = np.arange(len(scfs))\n",
    "fig = plt.subplots(figsize =(20, 8))\n",
    "for i in range(len(exts)):\n",
    "    plt.bar(X + width * i, counts[i], color = colors[i % len(colors)], width = width, label = str(exts[i])[10:-23])\n",
    "plt.xlabel('Social Choice Function', fontweight ='bold', fontsize = 12)\n",
    "plt.ylabel('Manipulable Profiles', fontweight ='bold', fontsize = 12)\n",
    "plt.xticks([r + width for r in range(len(scfs))], [str(scf)[10:-23] for scf in scfs])\n",
    "plt.legend()\n",
    "plt.show()"
   ],
   "metadata": {
    "collapsed": false,
    "ExecuteTime": {
     "start_time": "2023-07-02T15:55:31.800365Z",
     "end_time": "2023-07-02T15:55:36.249964Z"
    }
   }
  }
 ],
 "metadata": {
  "kernelspec": {
   "display_name": "Python 3",
   "language": "python",
   "name": "python3"
  },
  "language_info": {
   "codemirror_mode": {
    "name": "ipython",
    "version": 2
   },
   "file_extension": ".py",
   "mimetype": "text/x-python",
   "name": "python",
   "nbconvert_exporter": "python",
   "pygments_lexer": "ipython2",
   "version": "2.7.6"
  }
 },
 "nbformat": 4,
 "nbformat_minor": 0
}
