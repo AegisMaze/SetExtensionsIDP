{
 "cells": [
  {
   "cell_type": "markdown",
   "source": [
    "# Import Packages\n"
   ],
   "metadata": {
    "collapsed": false
   }
  },
  {
   "cell_type": "code",
   "execution_count": 40,
   "outputs": [],
   "source": [
    "from profile_gen import *\n",
    "from sc_functions import *\n",
    "from strprf import *\n",
    "from itertools import chain, combinations\n",
    "\n",
    "%reload_ext autoreload\n",
    "%autoreload 2"
   ],
   "metadata": {
    "collapsed": false,
    "ExecuteTime": {
     "start_time": "2023-05-16T17:57:51.956749Z",
     "end_time": "2023-05-16T17:57:54.612853Z"
    }
   }
  },
  {
   "cell_type": "markdown",
   "source": [
    "# Testing Code"
   ],
   "metadata": {
    "collapsed": false
   }
  },
  {
   "cell_type": "code",
   "execution_count": 41,
   "outputs": [
    {
     "name": "stdout",
     "output_type": "stream",
     "text": [
      "354\n",
      "377\n",
      "249\n",
      "273\n",
      "123\n",
      "117\n",
      "0\n",
      "0\n",
      "0\n",
      "0\n",
      "0\n",
      "0\n",
      "0\n",
      "0\n"
     ]
    }
   ],
   "source": [
    "x = 1000\n",
    "n = 21\n",
    "m = 3\n",
    "\n",
    "scfs = [plurality, borda, instant_runoff, pareto, copeland, top_cycle, uncovered_set]\n",
    "exts = [kelly, fishburn]\n",
    "\n",
    "for scf in scfs:\n",
    "    for ext in exts:\n",
    "        print(manipulable_count(x, n, m, scf, ext))"
   ],
   "metadata": {
    "collapsed": false,
    "ExecuteTime": {
     "start_time": "2023-05-16T17:57:54.621458Z",
     "end_time": "2023-05-16T17:58:26.760789Z"
    }
   }
  }
 ],
 "metadata": {
  "kernelspec": {
   "display_name": "Python 3",
   "language": "python",
   "name": "python3"
  },
  "language_info": {
   "codemirror_mode": {
    "name": "ipython",
    "version": 2
   },
   "file_extension": ".py",
   "mimetype": "text/x-python",
   "name": "python",
   "nbconvert_exporter": "python",
   "pygments_lexer": "ipython2",
   "version": "2.7.6"
  }
 },
 "nbformat": 4,
 "nbformat_minor": 0
}
