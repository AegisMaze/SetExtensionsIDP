{
 "cells": [
  {
   "cell_type": "markdown",
   "source": [
    "# Import Packages\n"
   ],
   "metadata": {
    "collapsed": false
   }
  },
  {
   "cell_type": "code",
   "execution_count": 15,
   "outputs": [],
   "source": [
    "from profile_gen import *\n",
    "from sc_functions import *\n",
    "from strprf import *\n",
    "from itertools import chain, combinations\n",
    "\n",
    "%reload_ext autoreload\n",
    "%autoreload 2"
   ],
   "metadata": {
    "collapsed": false,
    "ExecuteTime": {
     "start_time": "2023-05-17T19:37:01.326991Z",
     "end_time": "2023-05-17T19:37:02.063529Z"
    }
   }
  },
  {
   "cell_type": "markdown",
   "source": [
    "# Testing Code"
   ],
   "metadata": {
    "collapsed": false
   }
  },
  {
   "cell_type": "code",
   "execution_count": 16,
   "outputs": [
    {
     "name": "stdout",
     "output_type": "stream",
     "text": [
      "<function plurality at 0x0000016F638135B0> <function kelly at 0x0000016F63812B00> 418\n",
      "<function plurality at 0x0000016F638135B0> <function fishburn at 0x0000016F635FCEE0> 449\n",
      "<function plurality at 0x0000016F638135B0> <function gardenförs at 0x0000016F635FFE20> 420\n",
      "<function plurality at 0x0000016F638135B0> <function optimist at 0x0000016F635FC670> 174\n",
      "<function plurality at 0x0000016F638135B0> <function pessimist at 0x0000016F635FFB50> 746\n",
      "<function borda at 0x0000016F638132E0> <function kelly at 0x0000016F63812B00> 316\n",
      "<function borda at 0x0000016F638132E0> <function fishburn at 0x0000016F635FCEE0> 325\n",
      "<function borda at 0x0000016F638132E0> <function gardenförs at 0x0000016F635FFE20> 308\n",
      "<function borda at 0x0000016F638132E0> <function optimist at 0x0000016F635FC670> 251\n",
      "<function borda at 0x0000016F638132E0> <function pessimist at 0x0000016F635FFB50> 806\n",
      "<function instant_runoff at 0x0000016F638124D0> <function kelly at 0x0000016F63812B00> 99\n",
      "<function instant_runoff at 0x0000016F638124D0> <function fishburn at 0x0000016F635FCEE0> 96\n",
      "<function instant_runoff at 0x0000016F638124D0> <function gardenförs at 0x0000016F635FFE20> 80\n",
      "<function instant_runoff at 0x0000016F638124D0> <function optimist at 0x0000016F635FC670> 101\n",
      "<function instant_runoff at 0x0000016F638124D0> <function pessimist at 0x0000016F635FFB50> 644\n",
      "<function pareto at 0x0000016F63813010> <function kelly at 0x0000016F63812B00> 0\n",
      "<function pareto at 0x0000016F63813010> <function fishburn at 0x0000016F635FCEE0> 0\n",
      "<function pareto at 0x0000016F63813010> <function gardenförs at 0x0000016F635FFE20> 0\n",
      "<function pareto at 0x0000016F63813010> <function optimist at 0x0000016F635FC670> 0\n",
      "<function pareto at 0x0000016F63813010> <function pessimist at 0x0000016F635FFB50> 1000\n",
      "<function omninomination at 0x0000016F63813370> <function kelly at 0x0000016F63812B00> 0\n",
      "<function omninomination at 0x0000016F63813370> <function fishburn at 0x0000016F635FCEE0> 0\n",
      "<function omninomination at 0x0000016F63813370> <function gardenförs at 0x0000016F635FFE20> 0\n",
      "<function omninomination at 0x0000016F63813370> <function optimist at 0x0000016F635FC670> 0\n",
      "<function omninomination at 0x0000016F63813370> <function pessimist at 0x0000016F635FFB50> 1000\n",
      "<function copeland at 0x0000016F63812E60> <function kelly at 0x0000016F63812B00> 0\n",
      "<function copeland at 0x0000016F63812E60> <function fishburn at 0x0000016F635FCEE0> 0\n",
      "<function copeland at 0x0000016F63812E60> <function gardenförs at 0x0000016F635FFE20> 0\n",
      "<function copeland at 0x0000016F63812E60> <function optimist at 0x0000016F635FC670> 249\n",
      "<function copeland at 0x0000016F63812E60> <function pessimist at 0x0000016F635FFB50> 650\n",
      "<function top_cycle at 0x0000016F63812B90> <function kelly at 0x0000016F63812B00> 0\n",
      "<function top_cycle at 0x0000016F63812B90> <function fishburn at 0x0000016F635FCEE0> 0\n",
      "<function top_cycle at 0x0000016F63812B90> <function gardenförs at 0x0000016F635FFE20> 0\n",
      "<function top_cycle at 0x0000016F63812B90> <function optimist at 0x0000016F635FC670> 250\n",
      "<function top_cycle at 0x0000016F63812B90> <function pessimist at 0x0000016F635FFB50> 652\n",
      "<function uncovered_set at 0x0000016F63813D00> <function kelly at 0x0000016F63812B00> 0\n",
      "<function uncovered_set at 0x0000016F63813D00> <function fishburn at 0x0000016F635FCEE0> 0\n",
      "<function uncovered_set at 0x0000016F63813D00> <function gardenförs at 0x0000016F635FFE20> 0\n",
      "<function uncovered_set at 0x0000016F63813D00> <function optimist at 0x0000016F635FC670> 259\n",
      "<function uncovered_set at 0x0000016F63813D00> <function pessimist at 0x0000016F635FFB50> 629\n"
     ]
    }
   ],
   "source": [
    "x = 1000\n",
    "n = 11\n",
    "m = 3\n",
    "\n",
    "scfs = [plurality, borda, instant_runoff, pareto, omninomination, copeland, top_cycle, uncovered_set]\n",
    "exts = [kelly, fishburn, gardenförs, optimist, pessimist]\n",
    "\n",
    "for scf in scfs:\n",
    "    for ext in exts:\n",
    "        print(scf, ext, manipulable_count(x, n, m, scf, ext))"
   ],
   "metadata": {
    "collapsed": false,
    "ExecuteTime": {
     "start_time": "2023-05-17T19:37:02.134536Z",
     "end_time": "2023-05-17T19:37:36.237805Z"
    }
   }
  }
 ],
 "metadata": {
  "kernelspec": {
   "display_name": "Python 3",
   "language": "python",
   "name": "python3"
  },
  "language_info": {
   "codemirror_mode": {
    "name": "ipython",
    "version": 2
   },
   "file_extension": ".py",
   "mimetype": "text/x-python",
   "name": "python",
   "nbconvert_exporter": "python",
   "pygments_lexer": "ipython2",
   "version": "2.7.6"
  }
 },
 "nbformat": 4,
 "nbformat_minor": 0
}
