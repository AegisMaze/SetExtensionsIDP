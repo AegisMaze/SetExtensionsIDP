{
 "cells": [
  {
   "cell_type": "markdown",
   "source": [
    "# Import Packages\n"
   ],
   "metadata": {
    "collapsed": false
   }
  },
  {
   "cell_type": "code",
   "execution_count": 25,
   "outputs": [],
   "source": [
    "from profile_gen import *\n",
    "from sc_functions import *\n",
    "from strprf import *\n",
    "from itertools import chain, combinations\n",
    "\n",
    "%reload_ext autoreload\n",
    "%autoreload 2"
   ],
   "metadata": {
    "collapsed": false,
    "ExecuteTime": {
     "start_time": "2023-05-02T13:19:28.780842Z",
     "end_time": "2023-05-02T13:19:30.165458Z"
    }
   }
  },
  {
   "cell_type": "markdown",
   "source": [
    "# Testing Code"
   ],
   "metadata": {
    "collapsed": false
   }
  },
  {
   "cell_type": "code",
   "execution_count": 26,
   "outputs": [
    {
     "name": "stdout",
     "output_type": "stream",
     "text": [
      "[2]\n"
     ]
    }
   ],
   "source": [
    "r = {(0, 2, 1, 3, 4): 5, (4, 1, 2, 3, 0): 4, (3, 2, 1, 4, 0): 3, (1, 3, 4, 2, 0): 2}\n",
    "\n",
    "print(uncovered_set(r))"
   ],
   "metadata": {
    "collapsed": false,
    "ExecuteTime": {
     "start_time": "2023-05-02T13:19:30.171467Z",
     "end_time": "2023-05-02T13:19:31.213033Z"
    }
   }
  }
 ],
 "metadata": {
  "kernelspec": {
   "display_name": "Python 3",
   "language": "python",
   "name": "python3"
  },
  "language_info": {
   "codemirror_mode": {
    "name": "ipython",
    "version": 2
   },
   "file_extension": ".py",
   "mimetype": "text/x-python",
   "name": "python",
   "nbconvert_exporter": "python",
   "pygments_lexer": "ipython2",
   "version": "2.7.6"
  }
 },
 "nbformat": 4,
 "nbformat_minor": 0
}
