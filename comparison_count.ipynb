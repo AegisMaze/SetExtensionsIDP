{
 "cells": [
  {
   "cell_type": "code",
   "execution_count": 32,
   "metadata": {
    "collapsed": true,
    "ExecuteTime": {
     "start_time": "2023-06-06T00:01:23.721014Z",
     "end_time": "2023-06-06T00:01:25.195436Z"
    }
   },
   "outputs": [],
   "source": [
    "from extensions import *\n",
    "from itertools import chain, combinations\n",
    "\n",
    "%reload_ext autoreload\n",
    "%autoreload 2"
   ]
  },
  {
   "cell_type": "code",
   "execution_count": 33,
   "outputs": [
    {
     "name": "stdout",
     "output_type": "stream",
     "text": [
      "14 14\n",
      "16 16\n",
      "18 18\n",
      "45 45\n",
      "58 58\n",
      "77 77\n",
      "124 124\n",
      "178 178\n",
      "292 292\n",
      "315 315\n",
      "498 498\n",
      "1051 1051\n",
      "762 762\n",
      "1314 1314\n",
      "3686 3686\n",
      "1785 1785\n",
      "3330 3330\n",
      "12729 12729\n",
      "4088 4088\n",
      "8194 8194\n",
      "43464 43464\n"
     ]
    }
   ],
   "source": [
    "def powerset(iterable):\n",
    "    s = list(iterable)\n",
    "    return chain.from_iterable(combinations(s, r) for r in range(1, len(s)+1))\n",
    "\n",
    "for m in range(3, 10):\n",
    "    c_k = 0\n",
    "    c_f = 0\n",
    "    c_g = 0\n",
    "    for p1 in powerset(range(m)):\n",
    "        for p2 in powerset(range(m)):\n",
    "            if kelly(p1, p2, list(range(m))):\n",
    "                c_k += 1\n",
    "            if fishburn(p1, p2, list(range(m))):\n",
    "                c_f += 1\n",
    "            if gardenfoers(p1, p2, list(range(m))):\n",
    "                c_g += 1\n",
    "    print(c_k, (m - 1) * (2 ** m - 1))\n",
    "    print(c_f, 2 ** (m-3) * (m ** 2 - m) + m * 2 ** m - 2 ** (m + 1) + 2)\n",
    "    print(c_g, (m - 1) * 2 ** m + (m - 3) * 3 ** (m - 1) + 2)"
   ],
   "metadata": {
    "collapsed": false,
    "ExecuteTime": {
     "start_time": "2023-06-06T00:01:25.205460Z",
     "end_time": "2023-06-06T00:01:30.068204Z"
    }
   }
  }
 ],
 "metadata": {
  "kernelspec": {
   "display_name": "Python 3",
   "language": "python",
   "name": "python3"
  },
  "language_info": {
   "codemirror_mode": {
    "name": "ipython",
    "version": 2
   },
   "file_extension": ".py",
   "mimetype": "text/x-python",
   "name": "python",
   "nbconvert_exporter": "python",
   "pygments_lexer": "ipython2",
   "version": "2.7.6"
  }
 },
 "nbformat": 4,
 "nbformat_minor": 0
}
