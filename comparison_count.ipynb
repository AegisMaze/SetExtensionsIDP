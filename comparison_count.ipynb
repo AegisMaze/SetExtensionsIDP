{
 "cells": [
  {
   "cell_type": "code",
   "execution_count": 4,
   "metadata": {
    "collapsed": true,
    "ExecuteTime": {
     "start_time": "2023-06-25T21:35:33.900733Z",
     "end_time": "2023-06-25T21:35:34.091475Z"
    }
   },
   "outputs": [],
   "source": [
    "from extensions import *\n",
    "from itertools import chain, combinations\n",
    "\n",
    "%reload_ext autoreload\n",
    "%autoreload 2"
   ]
  },
  {
   "cell_type": "code",
   "execution_count": 5,
   "outputs": [
    {
     "name": "stdout",
     "output_type": "stream",
     "text": [
      "3 3\n",
      "3 3.0\n",
      "3 3\n",
      "2 2.0\n",
      "3 3.0\n",
      "3\n",
      "14 14\n",
      "16 16\n",
      "18 18\n",
      "14 14.0\n",
      "22 22.0\n",
      "18\n",
      "45 45\n",
      "58 58\n",
      "77 77\n",
      "70 70.0\n",
      "113 113.0\n",
      "96\n",
      "124 124\n",
      "178 178\n",
      "292 292\n",
      "310 310.0\n",
      "508 508.0\n",
      "430\n",
      "315 315\n",
      "498 498\n",
      "1051 1051\n",
      "1302 1302.0\n",
      "2151 2151.0\n",
      "1838\n",
      "762 762\n",
      "1314 1314\n",
      "3686 3686\n",
      "5334 5334.0\n",
      "8850 8850.0\n",
      "7628\n",
      "1785 1785\n",
      "3330 3330\n",
      "12729 12729\n",
      "21590 21590.0\n",
      "35901 35901.0\n",
      "31221\n",
      "4088 4088\n",
      "8194 8194\n",
      "43464 43464\n",
      "86870 86870.0\n",
      "144616 144616.0\n",
      "126456\n"
     ]
    }
   ],
   "source": [
    "def powerset(iterable):\n",
    "    s = list(iterable)\n",
    "    return chain.from_iterable(combinations(s, r) for r in range(1, len(s)+1))\n",
    "\n",
    "for m in range(2, 10):\n",
    "    c_k = 0\n",
    "    c_f = 0\n",
    "    c_g = 0\n",
    "    c_o = 0\n",
    "    c_op = 0\n",
    "    c_e = 0\n",
    "    for p1 in powerset(range(m)):\n",
    "        for p2 in powerset(range(m)):\n",
    "            if kelly(p1, p2, list(range(m))):\n",
    "                c_k += 1\n",
    "            if fishburn(p1, p2, list(range(m))):\n",
    "                c_f += 1\n",
    "            if gardenfoers(p1, p2, list(range(m))):\n",
    "                c_g += 1\n",
    "            if optimist(p1, p2, list(range(m))):\n",
    "                c_o += 1\n",
    "            if opt_pes(p1, p2, list(range(m))):\n",
    "                c_op += 1\n",
    "            if even_chance(p1, p2, list(range(m))):\n",
    "                c_e += 1\n",
    "    print(c_k, (m - 1) * (2 ** m - 1))\n",
    "    print(c_f, 2 ** (m-3) * (m ** 2 - m) + m * 2 ** m - 2 ** (m + 1) + 2)\n",
    "    print(c_g, (m - 1) * 2 ** m + (m - 3) * 3 ** (m - 1) + 2)\n",
    "    print(c_o, (4 ** m - 1) / 3 - 2 ** m + 1)\n",
    "    print(c_op, 2 * (4 ** m - 1) / 3 - 2 ** (m + 1) + 2 - (4 ** m - 3 * m - 1) / 9)\n",
    "    print(c_e)"
   ],
   "metadata": {
    "collapsed": false,
    "ExecuteTime": {
     "start_time": "2023-06-25T21:35:34.101677Z",
     "end_time": "2023-06-25T21:35:41.610877Z"
    }
   }
  },
  {
   "cell_type": "code",
   "execution_count": 5,
   "outputs": [],
   "source": [],
   "metadata": {
    "collapsed": false,
    "ExecuteTime": {
     "start_time": "2023-06-25T21:35:41.610877Z",
     "end_time": "2023-06-25T21:35:41.619265Z"
    }
   }
  }
 ],
 "metadata": {
  "kernelspec": {
   "display_name": "Python 3",
   "language": "python",
   "name": "python3"
  },
  "language_info": {
   "codemirror_mode": {
    "name": "ipython",
    "version": 2
   },
   "file_extension": ".py",
   "mimetype": "text/x-python",
   "name": "python",
   "nbconvert_exporter": "python",
   "pygments_lexer": "ipython2",
   "version": "2.7.6"
  }
 },
 "nbformat": 4,
 "nbformat_minor": 0
}
