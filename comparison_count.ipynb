{
 "cells": [
  {
   "cell_type": "code",
   "execution_count": 1,
   "metadata": {
    "collapsed": true,
    "ExecuteTime": {
     "start_time": "2023-09-07T15:26:14.082966Z",
     "end_time": "2023-09-07T15:26:14.157782Z"
    }
   },
   "outputs": [],
   "source": [
    "from extensions import *\n",
    "from itertools import chain, combinations\n",
    "\n",
    "%reload_ext autoreload\n",
    "%autoreload 2"
   ]
  },
  {
   "cell_type": "code",
   "execution_count": 2,
   "outputs": [
    {
     "name": "stdout",
     "output_type": "stream",
     "text": [
      "3 3\n",
      "18 18\n",
      "77 77\n",
      "292 292\n",
      "1051 1051\n",
      "3686 3686\n",
      "12729 12729\n",
      "43464 43464\n"
     ]
    }
   ],
   "source": [
    "def powerset(iterable):\n",
    "    s = list(iterable)\n",
    "    return chain.from_iterable(combinations(s, r) for r in range(1, len(s)+1))\n",
    "\n",
    "for m in range(2, 10):\n",
    "    c_k = 0\n",
    "    c_f = 0\n",
    "    c_g = 0\n",
    "    c_o = 0\n",
    "    c_op = 0\n",
    "    c_e = 0\n",
    "    for p1 in powerset(range(m)):\n",
    "        for p2 in powerset(range(m)):\n",
    "            if kelly(p1, p2, list(range(m))):\n",
    "                c_k += 1\n",
    "            if fishburn(p1, p2, list(range(m))):\n",
    "                c_f += 1\n",
    "            if gardenfoers(p1, p2, list(range(m))):\n",
    "                c_g += 1\n",
    "            if optimist(p1, p2, list(range(m))):\n",
    "                c_o += 1\n",
    "            if opt_pes(p1, p2, list(range(m))):\n",
    "                c_op += 1\n",
    "            if even_chance(p1, p2, list(range(m))):\n",
    "                c_e += 1\n",
    "    print(c_k, (m - 1) * (2 ** m - 1))\n",
    "    print(c_f, 2 ** (m-3) * (m ** 2 - m) + m * 2 ** m - 2 ** (m + 1) + 2)\n",
    "    print(c_g, (m - 1) * 2 ** m + (m - 3) * 3 ** (m - 1) + 2)\n",
    "    print(c_o, (4 ** m - 1) / 3 - 2 ** m + 1)\n",
    "    print(c_op, 2 * (4 ** m - 1) / 3 - 2 ** (m + 1) + 2 - (4 ** m - 3 * m - 1) / 9)\n",
    "    print(c_e)"
   ],
   "metadata": {
    "collapsed": false,
    "ExecuteTime": {
     "start_time": "2023-09-07T15:26:14.164993Z",
     "end_time": "2023-09-07T15:26:52.713764Z"
    }
   }
  },
  {
   "cell_type": "code",
   "execution_count": 2,
   "outputs": [],
   "source": [],
   "metadata": {
    "collapsed": false,
    "ExecuteTime": {
     "start_time": "2023-09-07T15:26:52.731430Z",
     "end_time": "2023-09-07T15:26:52.835650Z"
    }
   }
  }
 ],
 "metadata": {
  "kernelspec": {
   "display_name": "Python 3",
   "language": "python",
   "name": "python3"
  },
  "language_info": {
   "codemirror_mode": {
    "name": "ipython",
    "version": 2
   },
   "file_extension": ".py",
   "mimetype": "text/x-python",
   "name": "python",
   "nbconvert_exporter": "python",
   "pygments_lexer": "ipython2",
   "version": "2.7.6"
  }
 },
 "nbformat": 4,
 "nbformat_minor": 0
}
